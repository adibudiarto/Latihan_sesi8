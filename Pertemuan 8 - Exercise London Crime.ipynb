{
 "cells": [
  {
   "cell_type": "code",
   "execution_count": 50,
   "id": "c2cc626a",
   "metadata": {},
   "outputs": [],
   "source": [
    "import numpy as np\n",
    "import pandas as pd\n"
   ]
  },
  {
   "cell_type": "code",
   "execution_count": 58,
   "id": "f1425f68",
   "metadata": {},
   "outputs": [],
   "source": [
    "%matplotlib inline \n",
    "\n",
    "import matplotlib as mpl\n",
    "import matplotlib.pyplot as plt"
   ]
  },
  {
   "cell_type": "code",
   "execution_count": 2,
   "id": "bde51628",
   "metadata": {},
   "outputs": [],
   "source": [
    "df_crime = pd.read_csv('london_crime_by_lsoa.csv')"
   ]
  },
  {
   "cell_type": "code",
   "execution_count": 3,
   "id": "1ec25eec",
   "metadata": {},
   "outputs": [
    {
     "name": "stdout",
     "output_type": "stream",
     "text": [
      "<class 'pandas.core.frame.DataFrame'>\n",
      "RangeIndex: 13490604 entries, 0 to 13490603\n",
      "Data columns (total 7 columns):\n",
      " #   Column          Dtype \n",
      "---  ------          ----- \n",
      " 0   lsoa_code       object\n",
      " 1   borough         object\n",
      " 2   major_category  object\n",
      " 3   minor_category  object\n",
      " 4   value           int64 \n",
      " 5   year            int64 \n",
      " 6   month           int64 \n",
      "dtypes: int64(3), object(4)\n",
      "memory usage: 720.5+ MB\n"
     ]
    }
   ],
   "source": [
    "df_crime.info()"
   ]
  },
  {
   "cell_type": "code",
   "execution_count": 9,
   "id": "9beebb31",
   "metadata": {},
   "outputs": [
    {
     "data": {
      "text/plain": [
       "(13490604, 7)"
      ]
     },
     "execution_count": 9,
     "metadata": {},
     "output_type": "execute_result"
    }
   ],
   "source": [
    "df_crime.shape"
   ]
  },
  {
   "cell_type": "code",
   "execution_count": 10,
   "id": "4e51a903",
   "metadata": {},
   "outputs": [],
   "source": [
    "df_crime.fillna(\n",
    "    value=\"\",\n",
    "    inplace=True\n",
    ")"
   ]
  },
  {
   "cell_type": "code",
   "execution_count": 17,
   "id": "aa65b7d5",
   "metadata": {},
   "outputs": [
    {
     "data": {
      "text/plain": [
       "array(['lsoa_code', 'borough', 'major_category', 'minor_category',\n",
       "       'value', 'year', 'month'], dtype=object)"
      ]
     },
     "execution_count": 17,
     "metadata": {},
     "output_type": "execute_result"
    }
   ],
   "source": [
    "df_crime.columns.values "
   ]
  },
  {
   "cell_type": "code",
   "execution_count": 20,
   "id": "5b1bfa36",
   "metadata": {},
   "outputs": [
    {
     "data": {
      "text/plain": [
       "array([       0,        1,        2, ..., 13490601, 13490602, 13490603],\n",
       "      dtype=int64)"
      ]
     },
     "execution_count": 20,
     "metadata": {},
     "output_type": "execute_result"
    }
   ],
   "source": [
    "df_crime.index.values"
   ]
  },
  {
   "cell_type": "code",
   "execution_count": 21,
   "id": "8ade06bb",
   "metadata": {},
   "outputs": [
    {
     "data": {
      "text/plain": [
       "lsoa_code         0\n",
       "borough           0\n",
       "major_category    0\n",
       "minor_category    0\n",
       "value             0\n",
       "year              0\n",
       "month             0\n",
       "dtype: int64"
      ]
     },
     "execution_count": 21,
     "metadata": {},
     "output_type": "execute_result"
    }
   ],
   "source": [
    "df_crime.isnull().sum()"
   ]
  },
  {
   "cell_type": "code",
   "execution_count": 45,
   "id": "07d85e6a",
   "metadata": {},
   "outputs": [
    {
     "data": {
      "text/plain": [
       "borough\n",
       "Barking and Dagenham       96948\n",
       "Barnet                    141382\n",
       "Bexley                     71220\n",
       "Brent                     153787\n",
       "Bromley                   118904\n",
       "Camden                    179721\n",
       "City of London               780\n",
       "Croydon                   171621\n",
       "Ealing                    162638\n",
       "Enfield                   129945\n",
       "Greenwich                 121081\n",
       "Hackney                   154222\n",
       "Hammersmith and Fulham    120993\n",
       "Haringey                  141688\n",
       "Harrow                     75181\n",
       "Havering                   94057\n",
       "Hillingdon                137336\n",
       "Hounslow                  127120\n",
       "Islington                 153835\n",
       "Kensington and Chelsea    113095\n",
       "Kingston upon Thames       58311\n",
       "Lambeth                   197565\n",
       "Lewisham                  138369\n",
       "Merton                     74623\n",
       "Newham                    172934\n",
       "Redbridge                 121200\n",
       "Richmond upon Thames       64446\n",
       "Southwark                 183396\n",
       "Sutton                     63772\n",
       "Tower Hamlets             160004\n",
       "Waltham Forest            130220\n",
       "Wandsworth                135575\n",
       "Westminster               310610\n",
       "Name: value, dtype: int64"
      ]
     },
     "execution_count": 45,
     "metadata": {},
     "output_type": "execute_result"
    }
   ],
   "source": [
    "df_borought = df_crime[\n",
    "    (df_crime[\"year\"] > 2010)\n",
    "].groupby([\"borough\"])[\"value\"].sum() \n",
    "df_borought"
   ]
  },
  {
   "cell_type": "raw",
   "id": "f8310907",
   "metadata": {},
   "source": [
    "\n",
    "df_borought.plot()"
   ]
  },
  {
   "cell_type": "code",
   "execution_count": 61,
   "id": "72eb8344",
   "metadata": {},
   "outputs": [
    {
     "data": {
      "image/png": "[encoded data removed]",
      "text/plain": [
       "<Figure size 432x288 with 1 Axes>"
      ]
     },
     "metadata": {
      "needs_background": "light"
     },
     "output_type": "display_data"
    }
   ],
   "source": [
    "df_borought.plot(kind='line')\n",
    "\n",
    "plt.title('Crime by City')\n",
    "plt.ylabel('Number of Crime')\n",
    "plt.xlabel('City')\n",
    "\n",
    "plt.show() \n"
   ]
  },
  {
   "cell_type": "code",
   "execution_count": 48,
   "id": "a6411c2b",
   "metadata": {},
   "outputs": [],
   "source": [
    "df_year = df_crime[\n",
    "    (df_crime[\"year\"] > 2010)\n",
    "].groupby([\"year\"])[\"value\"].sum() "
   ]
  },
  {
   "cell_type": "code",
   "execution_count": 49,
   "id": "4f264738",
   "metadata": {},
   "outputs": [
    {
     "data": {
      "text/plain": [
       "<AxesSubplot:xlabel='year'>"
      ]
     },
     "execution_count": 49,
     "metadata": {},
     "output_type": "execute_result"
    },
    {
     "data": {
      "image/png": "[encoded data removed]",
      "text/plain": [
       "<Figure size 432x288 with 1 Axes>"
      ]
     },
     "metadata": {
      "needs_background": "light"
     },
     "output_type": "display_data"
    }
   ],
   "source": [
    "df_year.plot()"
   ]
  },
  {
   "cell_type": "code",
   "execution_count": 97,
   "id": "94824bec",
   "metadata": {},
   "outputs": [
    {
     "data": {
      "text/plain": [
       "Index(['lsoa_code', 'major_category', 'minor_category', 'value', 'year',\n",
       "       'month'],\n",
       "      dtype='object')"
      ]
     },
     "execution_count": 97,
     "metadata": {},
     "output_type": "execute_result"
    }
   ],
   "source": [
    "df_crime.columns\n"
   ]
  },
  {
   "cell_type": "code",
   "execution_count": 83,
   "id": "4b707fb6",
   "metadata": {},
   "outputs": [
    {
     "name": "stdout",
     "output_type": "stream",
     "text": [
      "-----------------\n"
     ]
    }
   ],
   "source": [
    "print('--End Line Chart--')\n"
   ]
  },
  {
   "cell_type": "code",
   "execution_count": null,
   "id": "1bb9d618",
   "metadata": {},
   "outputs": [],
   "source": [
    "condition = df_crime['major_category'] == "
   ]
  },
  {
   "cell_type": "code",
   "execution_count": null,
   "id": "506cbbd9",
   "metadata": {},
   "outputs": [],
   "source": []
  },
  {
   "cell_type": "code",
   "execution_count": null,
   "id": "970fc6fc",
   "metadata": {},
   "outputs": [],
   "source": []
  }
 ],
 "metadata": {
  "kernelspec": {
   "display_name": "Python 3 (ipykernel)",
   "language": "python",
   "name": "python3"
  },
  "language_info": {
   "codemirror_mode": {
    "name": "ipython",
    "version": 3
   },
   "file_extension": ".py",
   "mimetype": "text/x-python",
   "name": "python",
   "nbconvert_exporter": "python",
   "pygments_lexer": "ipython3",
   "version": "3.9.7"
  }
 },
 "nbformat": 4,
 "nbformat_minor": 5
}
